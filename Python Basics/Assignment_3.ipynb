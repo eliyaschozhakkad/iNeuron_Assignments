{
 "cells": [
  {
   "cell_type": "markdown",
   "id": "66785210",
   "metadata": {},
   "source": [
    "1. Why are functions advantageous to have in your programs?\n",
    "\n",
    "Ans:Functions makes our program readable and these functions can be used again.So code duplication is avoided and makes our code reusable,structured and readable."
   ]
  },
  {
   "cell_type": "markdown",
   "id": "bb55eff5",
   "metadata": {},
   "source": [
    "2. When does the code in a function run: when it's specified or when it's called?\n",
    "\n",
    "Ans:\n",
    "The function is executed when it is called."
   ]
  },
  {
   "cell_type": "markdown",
   "id": "70db0366",
   "metadata": {},
   "source": [
    "3. What statement creates a function?\n",
    "\n",
    "Ans: def keyword in python is used to define a function in python."
   ]
  },
  {
   "cell_type": "markdown",
   "id": "7018b48e",
   "metadata": {},
   "source": [
    "4. What is the difference between a function and a function call?\n",
    "\n",
    "Ans:\n",
    "A function consists of def keyword followed by function name and logic of function in function body.<br>\n",
    "A function call moves the program execution to the function and body of function is executed and returns a value by function if it is present.\n",
    "\n"
   ]
  },
  {
   "cell_type": "markdown",
   "id": "866cbd2a",
   "metadata": {},
   "source": [
    "5. How many global scopes are there in a Python program? How many local scopes?\n",
    "\n",
    "Ans:There is one global scope, and a local scope is created whenever a function is called."
   ]
  },
  {
   "cell_type": "markdown",
   "id": "3d5a1865",
   "metadata": {},
   "source": [
    "6. What happens to variables in a local scope when the function call returns?\n",
    "\n",
    "Ans:When a function returns, the local scope is destroyed, and all the variables are destroyed."
   ]
  },
  {
   "cell_type": "markdown",
   "id": "9495ea5b",
   "metadata": {},
   "source": [
    "7. What is the concept of a return value? Is it possible to have a return value in an expression?\n",
    "\n",
    "Ans: A return value is given back to the calling function when calling function execution is completed.Expression can return a value,for example we add two numbers , it is returning a value and is stored in another variable."
   ]
  },
  {
   "cell_type": "markdown",
   "id": "407e67cf",
   "metadata": {},
   "source": [
    "8. If a function does not have a return statement, what is the return value of a call to that function?\n",
    "\n",
    "Ans: If a function do not have return statement,it is given a default return type.(In python,it is None type)\n",
    "\n"
   ]
  },
  {
   "cell_type": "markdown",
   "id": "7ed26c8f",
   "metadata": {},
   "source": [
    "9. How do you make a function variable refer to the global variable?\n",
    "\n",
    "Ans: A global keyword is used in local function to refer global variables.\n"
   ]
  },
  {
   "cell_type": "markdown",
   "id": "a4dbd6fd",
   "metadata": {},
   "source": [
    "10. What is the data type of None?\n",
    "\n",
    "Ans: The data type of None is NoneType.\n"
   ]
  },
  {
   "cell_type": "markdown",
   "id": "ca449375",
   "metadata": {},
   "source": [
    "11. What does the sentence import areallyourpetsnamederic do?\n",
    "\n",
    "Ans:The sentence will import a module named areallyourpetsnamederic."
   ]
  },
  {
   "cell_type": "markdown",
   "id": "b774611d",
   "metadata": {},
   "source": [
    "12. If you had a bacon() feature in a spam module, what would you call it after importing spam?\n",
    "\n",
    "Ans: The function can be called using spam.bacon()"
   ]
  },
  {
   "cell_type": "markdown",
   "id": "1293c314",
   "metadata": {},
   "source": [
    "13. What can you do to save a programme from crashing if it encounters an error?\n",
    "\n",
    "Ans:Place the error code line in try block.So the program catches the error and except block is executed and program do not crash."
   ]
  },
  {
   "cell_type": "markdown",
   "id": "8c686506",
   "metadata": {},
   "source": [
    "14. What is the purpose of the try clause? What is the purpose of the except clause?\n",
    "\n",
    "Ans:The code possible for error is placed in try clause to avoid crashing of program.If an error is detected in try clause during execution, it is handled by except clause.\n"
   ]
  },
  {
   "cell_type": "code",
   "execution_count": null,
   "id": "f36a6a4b",
   "metadata": {},
   "outputs": [],
   "source": []
  }
 ],
 "metadata": {
  "kernelspec": {
   "display_name": "Python 3 (ipykernel)",
   "language": "python",
   "name": "python3"
  },
  "language_info": {
   "codemirror_mode": {
    "name": "ipython",
    "version": 3
   },
   "file_extension": ".py",
   "mimetype": "text/x-python",
   "name": "python",
   "nbconvert_exporter": "python",
   "pygments_lexer": "ipython3",
   "version": "3.9.12"
  }
 },
 "nbformat": 4,
 "nbformat_minor": 5
}
