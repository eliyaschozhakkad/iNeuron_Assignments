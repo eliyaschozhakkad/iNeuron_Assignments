{
 "cells": [
  {
   "cell_type": "markdown",
   "id": "1dbcece9",
   "metadata": {},
   "source": [
    "1. What advantages do Excel spreadsheets have over CSV spreadsheets?\n",
    "\n",
    "Ans:In Excel, spreadsheets can have values of datatypes other than strings; cells can have different fonts, sizes, or color settings; cells can have varying widths and heights; adjecent cells can be merged; and we can embed images and charts."
   ]
  },
  {
   "cell_type": "markdown",
   "id": "3ed71f91",
   "metadata": {},
   "source": [
    "2.What do you pass to csv.reader() and csv.writer() to create reader and writer objects?\n",
    "\n",
    "Ans:We pass a file object to csv.reader() or csv.writer()"
   ]
  },
  {
   "cell_type": "markdown",
   "id": "c6949feb",
   "metadata": {},
   "source": [
    "3. What modes do File objects for reader and writer objects need to be opened in?\n",
    "\n",
    "Ans:File objects need to be opened in read-binary ('rb') for reader objects and write-binary ('wb') fro writer objects."
   ]
  },
  {
   "cell_type": "markdown",
   "id": "b8536c13",
   "metadata": {},
   "source": [
    "4. What method takes a list argument and writes it to a CSV file?\n",
    "\n",
    "Ans:The writerrow() method."
   ]
  },
  {
   "cell_type": "markdown",
   "id": "c8ab05fc",
   "metadata": {},
   "source": [
    "5. What do the keyword arguments delimiter and line terminator do?\n",
    "\n",
    "Ans:The delimeter argument change the string used to separate cells in a row. The lineterminator argument changes the string used to separate rows."
   ]
  },
  {
   "cell_type": "markdown",
   "id": "95ccf784",
   "metadata": {},
   "source": [
    "6. What function takes a string of JSON data and returns a Python data structure?\n",
    "\n",
    "Ans:json.loads()"
   ]
  },
  {
   "cell_type": "markdown",
   "id": "805a6645",
   "metadata": {},
   "source": [
    "7. What function takes a Python data structure and returns a string of JSON data?\n",
    "\n",
    "Ans:json.dumps()"
   ]
  }
 ],
 "metadata": {
  "kernelspec": {
   "display_name": "Python 3 (ipykernel)",
   "language": "python",
   "name": "python3"
  },
  "language_info": {
   "codemirror_mode": {
    "name": "ipython",
    "version": 3
   },
   "file_extension": ".py",
   "mimetype": "text/x-python",
   "name": "python",
   "nbconvert_exporter": "python",
   "pygments_lexer": "ipython3",
   "version": "3.9.12"
  }
 },
 "nbformat": 4,
 "nbformat_minor": 5
}
