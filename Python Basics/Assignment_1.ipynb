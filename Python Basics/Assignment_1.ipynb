{
 "cells": [
  {
   "cell_type": "markdown",
   "id": "03852bb5",
   "metadata": {},
   "source": [
    "1. In the below elements which of them are values or an expression? eg:- values can be integer or string and expressions will be mathematical operators.\n",
    "*, 'hello',-87.8,- ,/ ,+,6 \n",
    "\n",
    "Ans:Values : 'hello', -87.8, 6\n",
    "\n",
    "    Expression : *, -, /, +    "
   ]
  },
  {
   "cell_type": "markdown",
   "id": "c844fe8a",
   "metadata": {},
   "source": [
    "2. What is the difference between string and variable?\n",
    "\n",
    "Ans:\n",
    "    \n",
    "    String:\n",
    "    A string is a data type used to represent text or sequences of characters.\n",
    "    Strings can contain letters, numbers, symbols, and spaces.\n",
    "    Eg:\"Helloworld\",\"123\",...\n",
    "    \n",
    "    Variable:\n",
    "    A variable is a named container that can hold data or values.\n",
    "    Variables are used to store and manipulate data within a program.\n",
    "    Eg: age = 25, name = \"eliyas\".Here age and name are variables"
   ]
  },
  {
   "cell_type": "markdown",
   "id": "f358b1ab",
   "metadata": {},
   "source": [
    "3. Describe three different data types.\n",
    "\n",
    "Ans:\n",
    "\n",
    "Numeric datatypes:\n",
    "1. Integer(int) - represent numbers without decimals.Eg:3,6,-5\n",
    "2. Float(float) - represent decimal numbers.Eg:3.5,5.66,-9.32\n",
    "3. Complex(complex) - represent complex numbers.Eg: 4+2j\n",
    "\n",
    "String datatypes:\n",
    "1. String(str) - represent characters or text.Eg: \"hello\"\n",
    "\n",
    "Sequence types: List,tupple,range\n",
    "\n",
    "Mapping type : Dictionary\n",
    "\n",
    "etc ...\n"
   ]
  },
  {
   "cell_type": "markdown",
   "id": "1c6b9e31",
   "metadata": {},
   "source": [
    "4. What is an expression made up of? What do all expressions do?\n",
    "\n",
    "Ans:\n",
    "An expression is a combination of values, variables, operators, and operands. \n",
    "Expressions need to be evaluated.The Python interpreter evaluates the expression and displays the result.\n"
   ]
  },
  {
   "cell_type": "markdown",
   "id": "9405047e",
   "metadata": {},
   "source": [
    "5. This assignment statements, like spam = 10. What is the difference between an expression and a statement?\n",
    "\n",
    "Expression:\n",
    "\n",
    "An expression is a combination of values, operators, and possibly functions that evaluates to a single value.\n",
    "Expressions produce a result or value when they are evaluated.\n",
    "\n",
    "Statements:\n",
    "\n",
    "Statements do not produce values or results when executed;instead, they perform actions, control flow, or modify program state.\n",
    "Statements often include keywords like if, while, for and assignments like spam = 10."
   ]
  },
  {
   "cell_type": "markdown",
   "id": "0f9eec08",
   "metadata": {},
   "source": [
    "6. After running the following code, what does the variable bacon contain?\n",
    "- bacon = 22\n",
    "- bacon + 1\n",
    "\n",
    "Ans: bacon = 23\n"
   ]
  },
  {
   "cell_type": "code",
   "execution_count": 2,
   "id": "4ae108e1",
   "metadata": {},
   "outputs": [
    {
     "data": {
      "text/plain": [
       "23"
      ]
     },
     "execution_count": 2,
     "metadata": {},
     "output_type": "execute_result"
    }
   ],
   "source": [
    "bacon = 22\n",
    "bacon + 1"
   ]
  },
  {
   "cell_type": "markdown",
   "id": "a62db2a7",
   "metadata": {},
   "source": [
    "7. What should the values of the following two terms be?\n",
    "- 'spam' + 'spamspam'\n",
    "- 'spam' * 3\n",
    "\n",
    "Ans:\n",
    "- 'spam' + 'spamspam' - 'spamspamspam'\n",
    "- 'spam' * 3 - 'spamspamspam'\n"
   ]
  },
  {
   "cell_type": "code",
   "execution_count": 3,
   "id": "b036f33e",
   "metadata": {},
   "outputs": [
    {
     "data": {
      "text/plain": [
       "'spamspamspam'"
      ]
     },
     "execution_count": 3,
     "metadata": {},
     "output_type": "execute_result"
    }
   ],
   "source": [
    "'spam' + 'spamspam'\n"
   ]
  },
  {
   "cell_type": "code",
   "execution_count": 4,
   "id": "017f8546",
   "metadata": {},
   "outputs": [
    {
     "data": {
      "text/plain": [
       "'spamspamspam'"
      ]
     },
     "execution_count": 4,
     "metadata": {},
     "output_type": "execute_result"
    }
   ],
   "source": [
    "'spam' * 3"
   ]
  },
  {
   "cell_type": "markdown",
   "id": "3679dfdc",
   "metadata": {},
   "source": [
    "8. Why is eggs a valid variable name while 100 is invalid?\n",
    "\n",
    "Ans: Variable names cannot begin with a number."
   ]
  },
  {
   "cell_type": "markdown",
   "id": "ae963215",
   "metadata": {},
   "source": [
    "9. What three functions can be used to get the integer, floating-point number, or string version of a value?\n",
    "\n",
    "Ans:\n",
    "- int() - To get integer value \n",
    "- float() - To get floating value\n",
    "- str() - To get string value\n"
   ]
  },
  {
   "cell_type": "markdown",
   "id": "a1377c49",
   "metadata": {},
   "source": [
    "10. Why does this expression cause an error? How can you fix it?\n",
    "'I have eaten ' + 99 + ' burritos.'\n",
    "\n",
    "Ans:\n",
    "\n",
    "Strings and integers cannot be concatenated.\n",
    "Correct format - 'I have eaten ' + str(99) + ' burritos.'\n"
   ]
  },
  {
   "cell_type": "code",
   "execution_count": 5,
   "id": "4cad4221",
   "metadata": {},
   "outputs": [
    {
     "data": {
      "text/plain": [
       "'I have eaten 99 burritos.'"
      ]
     },
     "execution_count": 5,
     "metadata": {},
     "output_type": "execute_result"
    }
   ],
   "source": [
    "'I have eaten ' + str(99) + ' burritos.'"
   ]
  },
  {
   "cell_type": "code",
   "execution_count": null,
   "id": "f9f15211",
   "metadata": {},
   "outputs": [],
   "source": []
  }
 ],
 "metadata": {
  "kernelspec": {
   "display_name": "Python 3 (ipykernel)",
   "language": "python",
   "name": "python3"
  },
  "language_info": {
   "codemirror_mode": {
    "name": "ipython",
    "version": 3
   },
   "file_extension": ".py",
   "mimetype": "text/x-python",
   "name": "python",
   "nbconvert_exporter": "python",
   "pygments_lexer": "ipython3",
   "version": "3.9.12"
  }
 },
 "nbformat": 4,
 "nbformat_minor": 5
}
