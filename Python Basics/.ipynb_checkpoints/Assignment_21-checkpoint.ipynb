{
 "cells": [
  {
   "cell_type": "markdown",
   "id": "9bf7a9e5",
   "metadata": {},
   "source": [
    "1. Add the current date to the text file today.txt as a string."
   ]
  },
  {
   "cell_type": "code",
   "execution_count": 1,
   "id": "2ca77434",
   "metadata": {},
   "outputs": [],
   "source": [
    "from datetime import date\n",
    "now = date.today()\n",
    "now_str = now.isoformat()\n",
    "with open('today.txt', 'wt') as output:\n",
    "    print(now_str, file=output)"
   ]
  },
  {
   "cell_type": "markdown",
   "id": "d103a247",
   "metadata": {},
   "source": [
    "2. Read the text file today.txt into the string today_string"
   ]
  },
  {
   "cell_type": "code",
   "execution_count": 2,
   "id": "747d2ad5",
   "metadata": {},
   "outputs": [
    {
     "data": {
      "text/plain": [
       "'2023-10-05\\n'"
      ]
     },
     "execution_count": 2,
     "metadata": {},
     "output_type": "execute_result"
    }
   ],
   "source": [
    "with open('today.txt', 'rt') as input:\n",
    "    today_string = input.read()\n",
    "    \n",
    "today_string"
   ]
  },
  {
   "cell_type": "markdown",
   "id": "c4cd6a8d",
   "metadata": {},
   "source": [
    "3. Parse the date from today_string."
   ]
  },
  {
   "cell_type": "code",
   "execution_count": 3,
   "id": "f7fa8ef5",
   "metadata": {},
   "outputs": [
    {
     "data": {
      "text/plain": [
       "datetime.datetime(2023, 10, 5, 0, 0)"
      ]
     },
     "execution_count": 3,
     "metadata": {},
     "output_type": "execute_result"
    }
   ],
   "source": [
    "from datetime import datetime\n",
    "fmt = '%Y-%m-%d\\n'\n",
    "datetime.strptime(today_string, fmt)"
   ]
  },
  {
   "cell_type": "markdown",
   "id": "c1fb3c40",
   "metadata": {},
   "source": [
    "4. List the files in your current directory"
   ]
  },
  {
   "cell_type": "code",
   "execution_count": 4,
   "id": "9c0d3dea",
   "metadata": {},
   "outputs": [
    {
     "data": {
      "text/plain": [
       "['today.txt',\n",
       " 'Assignment_3.ipynb',\n",
       " 'Assignment_6.ipynb',\n",
       " 'Assignment_18.ipynb',\n",
       " 'test.txt',\n",
       " 'sample.jpeg',\n",
       " 'Assignment_21.ipynb',\n",
       " 'zoo.py',\n",
       " 'Assignment_14.ipynb',\n",
       " 'Assignment_8.ipynb',\n",
       " 'books.csv',\n",
       " '.ipynb_checkpoints',\n",
       " '__pycache__',\n",
       " 'Assignment_2.ipynb',\n",
       " 'Assignment_5.ipynb',\n",
       " 'Assignment_15.ipynb',\n",
       " 'Assignment_7.ipynb',\n",
       " 'books.db',\n",
       " 'Assignment_12.ipynb',\n",
       " 'Assignment_10.ipynb',\n",
       " 'Assignment_20.ipynb',\n",
       " 'Assignment_4.ipynb',\n",
       " 'newimg.jpg',\n",
       " 'Assignment_9.ipynb',\n",
       " 'new.zip',\n",
       " 'Assignment_13.ipynb',\n",
       " 'Assignment_1.ipynb',\n",
       " 'Assignment_17.ipynb',\n",
       " 'Assignment_11.ipynb',\n",
       " 'Assignment_16.ipynb',\n",
       " 'Assignment_19.ipynb']"
      ]
     },
     "execution_count": 4,
     "metadata": {},
     "output_type": "execute_result"
    }
   ],
   "source": [
    "import os\n",
    "os.listdir('.')"
   ]
  },
  {
   "cell_type": "markdown",
   "id": "eefac3d3",
   "metadata": {},
   "source": [
    "5. Create a list of all of the files in your parent directory (minimum five files should be available)."
   ]
  },
  {
   "cell_type": "code",
   "execution_count": 5,
   "id": "6ac53569",
   "metadata": {},
   "outputs": [
    {
     "data": {
      "text/plain": [
       "['.git', '.ipynb_checkpoints', 'Python Basics']"
      ]
     },
     "execution_count": 5,
     "metadata": {},
     "output_type": "execute_result"
    }
   ],
   "source": [
    "os.listdir('..')"
   ]
  },
  {
   "cell_type": "markdown",
   "id": "13deae52",
   "metadata": {},
   "source": [
    "6. Use multiprocessing to create three separate processes. Make each one wait a random number of seconds between one and five, print the current time, and then exit."
   ]
  },
  {
   "cell_type": "code",
   "execution_count": 9,
   "id": "e51aadc7",
   "metadata": {},
   "outputs": [
    {
     "name": "stdout",
     "output_type": "stream",
     "text": [
      "Process Process-1 is sleeping for 2 seconds and started at 2023-10-05 17:46:22.\n",
      "Process Process-2 is sleeping for 5 seconds and started at 2023-10-05 17:46:22.\n",
      "Process Process-3 is sleeping for 3 seconds and started at 2023-10-05 17:46:22.\n",
      "Process Process-1 woke up at 2023-10-05 17:46:24 and is exiting.\n",
      "Process Process-3 woke up at 2023-10-05 17:46:25 and is exiting.\n",
      "Process Process-2 woke up at 2023-10-05 17:46:27 and is exiting.\n",
      "All processes have completed.\n"
     ]
    }
   ],
   "source": [
    "!python multi_process.py"
   ]
  },
  {
   "cell_type": "markdown",
   "id": "ac3274ce",
   "metadata": {},
   "source": [
    "7. Create a date object of your day of birth."
   ]
  },
  {
   "cell_type": "code",
   "execution_count": 10,
   "id": "ac6ccf1f",
   "metadata": {},
   "outputs": [
    {
     "data": {
      "text/plain": [
       "datetime.date(1996, 8, 10)"
      ]
     },
     "execution_count": 10,
     "metadata": {},
     "output_type": "execute_result"
    }
   ],
   "source": [
    "my_day = date(1996, 8, 10)\n",
    "my_day"
   ]
  },
  {
   "cell_type": "markdown",
   "id": "ad30d0d8",
   "metadata": {},
   "source": [
    "8. What day of the week was your day of birth?"
   ]
  },
  {
   "cell_type": "markdown",
   "id": "580f8133",
   "metadata": {},
   "source": [
    "Answer:\n",
    "With weekday(), Monday is 0 and Sunday is 6. With isoweekday(), Monday is 1 and Sunday is 7. Therefore, this date is a Saturday."
   ]
  },
  {
   "cell_type": "code",
   "execution_count": 12,
   "id": "abff321b",
   "metadata": {},
   "outputs": [
    {
     "data": {
      "text/plain": [
       "5"
      ]
     },
     "execution_count": 12,
     "metadata": {},
     "output_type": "execute_result"
    }
   ],
   "source": [
    "my_day.weekday()"
   ]
  },
  {
   "cell_type": "code",
   "execution_count": 13,
   "id": "1ae7294c",
   "metadata": {},
   "outputs": [
    {
     "data": {
      "text/plain": [
       "6"
      ]
     },
     "execution_count": 13,
     "metadata": {},
     "output_type": "execute_result"
    }
   ],
   "source": [
    "my_day.isoweekday()"
   ]
  },
  {
   "cell_type": "markdown",
   "id": "e8b22792",
   "metadata": {},
   "source": [
    "9. When will you be (or when were you) 10,000 days old?"
   ]
  },
  {
   "cell_type": "code",
   "execution_count": 14,
   "id": "0e2ad6d1",
   "metadata": {},
   "outputs": [
    {
     "data": {
      "text/plain": [
       "datetime.date(2023, 12, 27)"
      ]
     },
     "execution_count": 14,
     "metadata": {},
     "output_type": "execute_result"
    }
   ],
   "source": [
    "from datetime import timedelta\n",
    "ten_thousand = my_day + timedelta(days=10000)\n",
    "ten_thousand"
   ]
  }
 ],
 "metadata": {
  "kernelspec": {
   "display_name": "Python 3 (ipykernel)",
   "language": "python",
   "name": "python3"
  },
  "language_info": {
   "codemirror_mode": {
    "name": "ipython",
    "version": 3
   },
   "file_extension": ".py",
   "mimetype": "text/x-python",
   "name": "python",
   "nbconvert_exporter": "python",
   "pygments_lexer": "ipython3",
   "version": "3.9.12"
  }
 },
 "nbformat": 4,
 "nbformat_minor": 5
}
