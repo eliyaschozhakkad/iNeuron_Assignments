{
 "cells": [
  {
   "cell_type": "markdown",
   "id": "fac0dc5e",
   "metadata": {},
   "source": [
    "1. What is the result of the code, and explain?\n",
    "\n",
    "\n",
    "> X = 'iNeuron'\n",
    "\n",
    "> def func():\n",
    "\n",
    "> print(X)\n",
    "\n",
    "\n",
    "> func()\n"
   ]
  },
  {
   "cell_type": "markdown",
   "id": "d0e29377",
   "metadata": {},
   "source": [
    "Answer:\n",
    "    The line, func() Call the function we defined which prints the value of X."
   ]
  },
  {
   "cell_type": "code",
   "execution_count": 2,
   "id": "4edddaac",
   "metadata": {},
   "outputs": [],
   "source": [
    "X = 'iNeuron'\n",
    "def func():\n",
    "    print (X)"
   ]
  },
  {
   "cell_type": "code",
   "execution_count": 3,
   "id": "add76a5c",
   "metadata": {},
   "outputs": [
    {
     "name": "stdout",
     "output_type": "stream",
     "text": [
      "iNeuron\n"
     ]
    }
   ],
   "source": [
    "func()"
   ]
  },
  {
   "cell_type": "markdown",
   "id": "b6be23ed",
   "metadata": {},
   "source": [
    "2. What is the result of the code, and explain?\n",
    "\n",
    "\n",
    "> X = 'iNeuron'\n",
    "\n",
    "> def func():\n",
    "\n",
    "> X = 'NI!'\n",
    "\n",
    "\n",
    ">func()\n",
    "\n",
    "> print(X)"
   ]
  },
  {
   "cell_type": "markdown",
   "id": "68d99f1e",
   "metadata": {},
   "source": [
    "Answer:\n",
    "    The line, func() Call the function we defined, with \"NI\" as the value of X inside the funtion, but doesn't prints it, as there is no print statement inside the function.\n",
    "\n",
    "The line, print(X), prints the value of X, which is \"iNeuron\", which is outside func() because it is a global variable and function variable gets destroyed after execution of function"
   ]
  },
  {
   "cell_type": "code",
   "execution_count": 4,
   "id": "f73bf0fb",
   "metadata": {},
   "outputs": [],
   "source": [
    "X = 'iNeuron'\n",
    "def func():\n",
    "    X = 'NI!'\n",
    "func()"
   ]
  },
  {
   "cell_type": "code",
   "execution_count": 5,
   "id": "4fa218de",
   "metadata": {},
   "outputs": [
    {
     "name": "stdout",
     "output_type": "stream",
     "text": [
      "iNeuron\n"
     ]
    }
   ],
   "source": [
    "print(X)"
   ]
  },
  {
   "cell_type": "markdown",
   "id": "6c8e6e89",
   "metadata": {},
   "source": [
    "3. What does this code print, and why?\n",
    "\n",
    "\n",
    "> X = 'iNeuron'\n",
    "\n",
    "> def func():\n",
    "\n",
    "> X = 'NI'\n",
    "\n",
    "> print(X)\n",
    "\n",
    "\n",
    "> func()\n",
    "\n",
    "> print(X)"
   ]
  },
  {
   "cell_type": "markdown",
   "id": "d19a8a90",
   "metadata": {},
   "source": [
    "Answer:\n",
    "    The line, func() Call the function we defined which prints the value of X, which is \"NI\" inside the funtion.\n",
    "\n",
    "The line, print(X), prints the value of X, which is \"iNeuron\", which is outside func()."
   ]
  },
  {
   "cell_type": "code",
   "execution_count": 7,
   "id": "8a69edd9",
   "metadata": {},
   "outputs": [
    {
     "name": "stdout",
     "output_type": "stream",
     "text": [
      "NI!\n",
      "iNeuron\n"
     ]
    }
   ],
   "source": [
    "X = 'iNeuron'\n",
    "def func():\n",
    "    X = 'NI!'\n",
    "    print (X)\n",
    "func()\n",
    "print(X)"
   ]
  },
  {
   "cell_type": "markdown",
   "id": "2eefb5b1",
   "metadata": {},
   "source": [
    "4. What output does this code produce? Why?\n",
    "\n",
    "\n",
    "> X = 'iNeuron'\n",
    "\n",
    "> def func():\n",
    "\n",
    "> global X\n",
    "\n",
    "> X = 'NI'\n",
    "\n",
    "\n",
    "> func()\n",
    "\n",
    "> print(X)"
   ]
  },
  {
   "cell_type": "markdown",
   "id": "3a14c51e",
   "metadata": {},
   "source": [
    "Answer:\n",
    "    The line, func() Call the function we defined, with \"NI\" as the value of X inside the funtion, but doesn't prints it, as there is no print statement inside the function, and we have used global keyword, which means, global keyword allows us to modify the variable, that is \"X\", outside of the current function.\n",
    "\n",
    "The line, print(X), prints the value of X, which is now \"NI\", as we used global keyword inside the function."
   ]
  },
  {
   "cell_type": "code",
   "execution_count": 8,
   "id": "ca717b37",
   "metadata": {},
   "outputs": [
    {
     "name": "stdout",
     "output_type": "stream",
     "text": [
      "NI\n"
     ]
    }
   ],
   "source": [
    "X = 'iNeuron'\n",
    "def func():\n",
    "    global X\n",
    "    X = \"NI\"\n",
    "func()\n",
    "print(X)"
   ]
  },
  {
   "cell_type": "markdown",
   "id": "5a692119",
   "metadata": {},
   "source": [
    "5. What about this code—what’s the output, and why?\n",
    "\n",
    "\n",
    "> X = 'iNeuron'\n",
    "\n",
    "> def func():\n",
    "\n",
    "> X = 'NI'\n",
    "\n",
    "> def nested():\n",
    "\n",
    "> print(X)\n",
    "\n",
    "> nested()\n",
    "\n",
    "\n",
    "> func()\n",
    "\n",
    "> X"
   ]
  },
  {
   "cell_type": "code",
   "execution_count": 9,
   "id": "1f7b95a7",
   "metadata": {},
   "outputs": [
    {
     "name": "stdout",
     "output_type": "stream",
     "text": [
      "iNeuron\n"
     ]
    }
   ],
   "source": [
    "X = 'iNeuron'\n",
    "def func():\n",
    "    X = \"NI\"\n",
    "def nested():\n",
    "    print(X)\n",
    "nested()"
   ]
  },
  {
   "cell_type": "code",
   "execution_count": 10,
   "id": "5ec4604d",
   "metadata": {},
   "outputs": [],
   "source": [
    "func()"
   ]
  },
  {
   "cell_type": "code",
   "execution_count": 11,
   "id": "5de49f83",
   "metadata": {},
   "outputs": [
    {
     "data": {
      "text/plain": [
       "'iNeuron'"
      ]
     },
     "execution_count": 11,
     "metadata": {},
     "output_type": "execute_result"
    }
   ],
   "source": [
    "X"
   ]
  },
  {
   "cell_type": "markdown",
   "id": "cbe9060b",
   "metadata": {},
   "source": [
    "6. How about this code: what is its output in Python 3, and explain?\n",
    "\n",
    "\n",
    "> def func():\n",
    "\n",
    "> X = 'NI'\n",
    "\n",
    "> def nested():\n",
    "\n",
    "> nonlocal X\n",
    "\n",
    "> X = 'Spam'\n",
    "\n",
    "> nested()\n",
    "\n",
    "> print(X)\n",
    "\n",
    "\n",
    "> func()"
   ]
  },
  {
   "cell_type": "code",
   "execution_count": 12,
   "id": "9d08dbe3",
   "metadata": {},
   "outputs": [],
   "source": [
    "def func():\n",
    "    X = 'NI'\n",
    "    def nested():\n",
    "        nonlocal X\n",
    "        X = 'Spam'\n",
    "    nested()"
   ]
  },
  {
   "cell_type": "code",
   "execution_count": 13,
   "id": "d5a3cd8e",
   "metadata": {},
   "outputs": [
    {
     "name": "stdout",
     "output_type": "stream",
     "text": [
      "iNeuron\n"
     ]
    }
   ],
   "source": [
    "print(X)"
   ]
  },
  {
   "cell_type": "code",
   "execution_count": 14,
   "id": "45369ebd",
   "metadata": {},
   "outputs": [],
   "source": [
    "func()"
   ]
  },
  {
   "cell_type": "code",
   "execution_count": null,
   "id": "6498f7b5",
   "metadata": {},
   "outputs": [],
   "source": []
  }
 ],
 "metadata": {
  "kernelspec": {
   "display_name": "Python 3 (ipykernel)",
   "language": "python",
   "name": "python3"
  },
  "language_info": {
   "codemirror_mode": {
    "name": "ipython",
    "version": 3
   },
   "file_extension": ".py",
   "mimetype": "text/x-python",
   "name": "python",
   "nbconvert_exporter": "python",
   "pygments_lexer": "ipython3",
   "version": "3.9.12"
  }
 },
 "nbformat": 4,
 "nbformat_minor": 5
}
