{
 "cells": [
  {
   "cell_type": "markdown",
   "id": "6417799b",
   "metadata": {},
   "source": [
    "1. What exactly is [ ]?\n",
    "\n",
    "Ans:[ ] is an empty list which contain no items."
   ]
  },
  {
   "cell_type": "markdown",
   "id": "40ad394b",
   "metadata": {},
   "source": [
    "2. In a list of values stored in a variable called spam, how would you assign the value 'hello' as the third value? (Assume [2, 4, 6, 8, 10] are in spam.)\n",
    "\n",
    "Ans: spam[2] = \"hello\""
   ]
  },
  {
   "cell_type": "code",
   "execution_count": 2,
   "id": "235fe4c1",
   "metadata": {},
   "outputs": [
    {
     "data": {
      "text/plain": [
       "[2, 4, 'hello', 8, 10]"
      ]
     },
     "execution_count": 2,
     "metadata": {},
     "output_type": "execute_result"
    }
   ],
   "source": [
    "spam = [2, 4, 6, 8, 10]\n",
    "spam[2] = \"hello\"\n",
    "spam\n"
   ]
  },
  {
   "cell_type": "markdown",
   "id": "f7505b2f",
   "metadata": {},
   "source": [
    "Let's pretend the spam includes the list ['a', 'b', 'c', 'd'] for the next three queries.\n",
    "\n",
    "\n",
    "3. What is the value of spam[int(int('3' * 2) / 11)]?\n",
    "\n",
    "Ans: spam[3] - 'd'"
   ]
  },
  {
   "cell_type": "code",
   "execution_count": 3,
   "id": "ded0c0b9",
   "metadata": {},
   "outputs": [
    {
     "data": {
      "text/plain": [
       "'d'"
      ]
     },
     "execution_count": 3,
     "metadata": {},
     "output_type": "execute_result"
    }
   ],
   "source": [
    "spam = ['a', 'b', 'c', 'd']\n",
    "spam[int(int('3' * 2) / 11)]\n"
   ]
  },
  {
   "cell_type": "markdown",
   "id": "1e6484ac",
   "metadata": {},
   "source": [
    "4. What is the value of spam[-1]?\n",
    "\n",
    "Ans: 'd'.spam[-1] returns the last element in the list spam."
   ]
  },
  {
   "cell_type": "code",
   "execution_count": 4,
   "id": "8b9d3a28",
   "metadata": {},
   "outputs": [
    {
     "data": {
      "text/plain": [
       "'d'"
      ]
     },
     "execution_count": 4,
     "metadata": {},
     "output_type": "execute_result"
    }
   ],
   "source": [
    "spam[-1]"
   ]
  },
  {
   "cell_type": "markdown",
   "id": "09ebf93b",
   "metadata": {},
   "source": [
    "5. What is the value of spam[:2]?\n",
    "\n",
    "Ans:spam[:2] - ['a', 'b'].Returns from 0 to n-1 index in the list\n"
   ]
  },
  {
   "cell_type": "code",
   "execution_count": 5,
   "id": "4b3b6c99",
   "metadata": {},
   "outputs": [
    {
     "data": {
      "text/plain": [
       "['a', 'b']"
      ]
     },
     "execution_count": 5,
     "metadata": {},
     "output_type": "execute_result"
    }
   ],
   "source": [
    "spam[:2]"
   ]
  },
  {
   "cell_type": "markdown",
   "id": "2077c1cf",
   "metadata": {},
   "source": [
    "Let's pretend bacon has the list [3.14, 'cat', 11, 'cat', True] for the next three questions.\n",
    "\n",
    "6. What is the value of bacon.index('cat')?\n",
    "\n",
    "Ans: 1.Returns the index of 'cat' in bacon list."
   ]
  },
  {
   "cell_type": "code",
   "execution_count": 12,
   "id": "92ce9234",
   "metadata": {},
   "outputs": [
    {
     "data": {
      "text/plain": [
       "1"
      ]
     },
     "execution_count": 12,
     "metadata": {},
     "output_type": "execute_result"
    }
   ],
   "source": [
    "bacon = [3.14, 'cat', 11, 'cat', True]\n",
    "bacon.index('cat')"
   ]
  },
  {
   "cell_type": "markdown",
   "id": "92a72690",
   "metadata": {},
   "source": [
    "7. How does bacon.append(99) change the look of the list value in bacon?\n",
    "\n",
    "Ans: [3.14, 'cat', 11, 'cat', True,99].Adds 99 to the last of bacon list."
   ]
  },
  {
   "cell_type": "code",
   "execution_count": 11,
   "id": "c8cd28d5",
   "metadata": {},
   "outputs": [
    {
     "data": {
      "text/plain": [
       "[3.14, 'cat', 11, 'cat', True, 99]"
      ]
     },
     "execution_count": 11,
     "metadata": {},
     "output_type": "execute_result"
    }
   ],
   "source": [
    "bacon.append(99)\n",
    "bacon"
   ]
  },
  {
   "cell_type": "markdown",
   "id": "6cb5a8bf",
   "metadata": {},
   "source": [
    "8. How does bacon.remove('cat') change the look of the list in bacon?\n",
    "\n",
    "Ans: [3.14, 11, 'cat', True].Removes the first occurance of 'cat' in bacon list."
   ]
  },
  {
   "cell_type": "code",
   "execution_count": 13,
   "id": "d19816a8",
   "metadata": {},
   "outputs": [
    {
     "data": {
      "text/plain": [
       "[3.14, 11, 'cat', True]"
      ]
     },
     "execution_count": 13,
     "metadata": {},
     "output_type": "execute_result"
    }
   ],
   "source": [
    "bacon.remove('cat')\n",
    "bacon"
   ]
  },
  {
   "cell_type": "markdown",
   "id": "f38ae8ab",
   "metadata": {},
   "source": [
    "9. What are the list concatenation and list replication operators?\n",
    "\n",
    "Ans: '+' is used for list concatenation and '*' is used for list replication\n",
    "\n"
   ]
  },
  {
   "cell_type": "markdown",
   "id": "0ee623b1",
   "metadata": {},
   "source": [
    "10. What is difference between the list methods append() and insert()?\n",
    "\n",
    "Ans: append() adds the element to the last of list whereas insert() adds element to the required position of list.\n"
   ]
  },
  {
   "cell_type": "markdown",
   "id": "0683c71d",
   "metadata": {},
   "source": [
    "11. What are the two methods for removing items from a list?\n",
    "\n",
    "Ans: remove() is used to remove the first occurance of element by its value whereas pop() is used to remove item by its index."
   ]
  },
  {
   "cell_type": "markdown",
   "id": "6f4caa2a",
   "metadata": {},
   "source": [
    "12. Describe how list values and string values are identical.\n",
    "\n",
    "Ans: Both list and values are sequential collection.Both are iterable and can be iterated.Both can used in slicing."
   ]
  },
  {
   "cell_type": "markdown",
   "id": "e0351aef",
   "metadata": {},
   "source": [
    "13. What's the difference between tuples and lists?\n",
    "\n",
    "Ans: tuples are immutable iterables and represented in () whereas lists are mutable iterables and represented in [ ]"
   ]
  },
  {
   "cell_type": "markdown",
   "id": "97c61b7a",
   "metadata": {},
   "source": [
    "14. How do you type a tuple value that only contains the integer 42?\n",
    "\n",
    "Ans: a = (42,)\n"
   ]
  },
  {
   "cell_type": "code",
   "execution_count": 16,
   "id": "8e538c20",
   "metadata": {},
   "outputs": [
    {
     "data": {
      "text/plain": [
       "(42,)"
      ]
     },
     "execution_count": 16,
     "metadata": {},
     "output_type": "execute_result"
    }
   ],
   "source": [
    "a = (42,)\n",
    "a"
   ]
  },
  {
   "cell_type": "markdown",
   "id": "681d015b",
   "metadata": {},
   "source": [
    "15. How do you get a list value's tuple form? How do you get a tuple value's list form?\n",
    "\n",
    "Ans: tuple() can be used for lists and list() can be used for tupple"
   ]
  },
  {
   "cell_type": "markdown",
   "id": "9a68295b",
   "metadata": {},
   "source": [
    "16. Variables that \"contain\" list values are not necessarily lists themselves. Instead, what do they contain?\n",
    "\n",
    "Ans: list values in variable are just pointers or references to the list object in memory."
   ]
  },
  {
   "cell_type": "markdown",
   "id": "cce77db3",
   "metadata": {},
   "source": [
    "17. How do you distinguish between copy.copy() and copy.deepcopy()?\n",
    "\n",
    "Ans:copy.copy() is used for shallow copy.Shallow copy eventhough creates new objects ,it copies references of nested items like nested list in list.So nested list can be mutated from old or new list.\n",
    "\n",
    "copy.deepcopy() is used for deep copy and creates new object completely even for nested items like nested lists in lists."
   ]
  },
  {
   "cell_type": "code",
   "execution_count": null,
   "id": "469d29eb",
   "metadata": {},
   "outputs": [],
   "source": []
  }
 ],
 "metadata": {
  "kernelspec": {
   "display_name": "Python 3 (ipykernel)",
   "language": "python",
   "name": "python3"
  },
  "language_info": {
   "codemirror_mode": {
    "name": "ipython",
    "version": 3
   },
   "file_extension": ".py",
   "mimetype": "text/x-python",
   "name": "python",
   "nbconvert_exporter": "python",
   "pygments_lexer": "ipython3",
   "version": "3.9.12"
  }
 },
 "nbformat": 4,
 "nbformat_minor": 5
}
