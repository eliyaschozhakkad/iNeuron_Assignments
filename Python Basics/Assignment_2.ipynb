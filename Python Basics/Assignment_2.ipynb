{
 "cells": [
  {
   "cell_type": "markdown",
   "id": "5c61612a",
   "metadata": {},
   "source": [
    "1.What are the two values of the Boolean data type? How do you write them?\n",
    "\n",
    "Ans:\n",
    "Two values of Boolean data type are : True and False"
   ]
  },
  {
   "cell_type": "markdown",
   "id": "006fe546",
   "metadata": {},
   "source": [
    "2. What are the three different types of Boolean operators?\n",
    "\n",
    "Ans:\n",
    "- AND operator\n",
    "- OR operator\n",
    "- NOT operator"
   ]
  },
  {
   "cell_type": "markdown",
   "id": "a95320eb",
   "metadata": {},
   "source": [
    "3. Make a list of each Boolean operator's truth tables (i.e. every possible combination of Boolean values for the operator and what it evaluate ).\n",
    "\n",
    "Ans:\n",
    "\n",
    "- True is 1 and False is 0 <br>\n",
    "\n",
    "**Truth Table**<br>\n",
    "- AND operator<br>\n",
    "A B output<br>\n",
    "0 0 0 <br>\n",
    "0 1 0<br>\n",
    "1 0 0 <br>\n",
    "1 1 1<br>\n",
    "- OR operator<br>\n",
    "A B output<br>\n",
    "0 0 0<br>\n",
    "0 1 1 <br>\n",
    "1 0 1 <br>\n",
    "1 1 1 <br>\n",
    "- NOT operator<br>\n",
    "A output<br>\n",
    "0 1<br>\n",
    "1 0<br>"
   ]
  },
  {
   "cell_type": "markdown",
   "id": "5cc9ddc5",
   "metadata": {},
   "source": [
    "4. What are the values of the following expressions?<br>\n",
    "(5 > 4) and (3 == 5) <br>\n",
    "not (5 > 4)<br>\n",
    "(5 > 4) or (3 == 5)<br>\n",
    "not ((5 > 4) or (3 == 5))<br>\n",
    "(True and True) and (True == False)<br>\n",
    "(not False) or (not True)<br>\n",
    "\n",
    "Ans:\n",
    "- (5 > 4) and (3 == 5) : True and False - False\n",
    "- not (5 > 4) : not(True) - False\n",
    "- (5 > 4) or (3 == 5) : True or False - True\n",
    "- not ((5 > 4) or (3 == 5)) : not ( True or False) - not(True) - False\n",
    "- (True and True) and (True == False) : True and False - False\n",
    "- (not False) or (not True) : True or False - True\n"
   ]
  },
  {
   "cell_type": "code",
   "execution_count": 3,
   "id": "5af61889",
   "metadata": {},
   "outputs": [
    {
     "name": "stdout",
     "output_type": "stream",
     "text": [
      "False\n",
      "False\n",
      "True\n",
      "False\n",
      "False\n",
      "True\n"
     ]
    }
   ],
   "source": [
    "print((5 > 4) and (3 == 5))\n",
    "print(not (5 > 4))\n",
    "print((5 > 4) or (3 == 5))\n",
    "print(not ((5 > 4) or (3 == 5)))\n",
    "print((True and True) and (True == False))\n",
    "print((not False) or (not True))"
   ]
  },
  {
   "cell_type": "markdown",
   "id": "e9080de4",
   "metadata": {},
   "source": [
    "5. What are the six comparison operators?\n",
    "\n",
    "Ans:Python has six comparison operators: less than ( < ), less than or equal to ( <= ), greater than ( > ), greater than or equal to ( >= ), equal to ( == ), and not equal to ( != )."
   ]
  },
  {
   "cell_type": "markdown",
   "id": "4e9f15cc",
   "metadata": {},
   "source": [
    "6. How do you tell the difference between the equal to and assignment operators?Describe a condition and when you would use one.\n",
    "\n",
    "Ans:\n",
    "- = is an Assignment Operator it is used to assign the value of variable or expression.<br>\n",
    "Eg: age = 25.Here 25 is assigned to variable age.\n",
    "- == is an Equal to Operator and it is a relation operator used for comparison (to compare value of both left and right side operands).<br>\n",
    "Eg: 25 == 25 return True since both are equal. 25 == 20 return False since both are not equal\n"
   ]
  },
  {
   "cell_type": "markdown",
   "id": "73728342",
   "metadata": {},
   "source": [
    "7. Identify the three blocks in this code:\n",
    "spam = 0\n",
    "if spam == 10:\n",
    "print('eggs')\n",
    "if spam > 5:\n",
    "print('bacon')\n",
    "else:\n",
    "print('ham')\n",
    "print('spam')\n",
    "print('spam')\n",
    "\n",
    "Ans:\n",
    " \n"
   ]
  },
  {
   "cell_type": "code",
   "execution_count": 4,
   "id": "c2cdc3ad",
   "metadata": {},
   "outputs": [
    {
     "name": "stdout",
     "output_type": "stream",
     "text": [
      "ham\n",
      "spam\n",
      "spam\n"
     ]
    }
   ],
   "source": [
    "spam = 0\n",
    "if spam == 10:\n",
    "    print('eggs') #Block1\n",
    "if spam > 5:\n",
    "    print('bacon') # Block2\n",
    "else:\n",
    "    print('ham') #Block3\n",
    "    print('spam') #Block3\n",
    "    print('spam') #Block3\n"
   ]
  },
  {
   "cell_type": "markdown",
   "id": "2da63879",
   "metadata": {},
   "source": [
    "8. Write code that prints Hello if 1 is stored in spam, prints Howdy if 2 is stored in spam, and prints Greetings! if anything else is stored in spam."
   ]
  },
  {
   "cell_type": "code",
   "execution_count": 11,
   "id": "3497cbff",
   "metadata": {},
   "outputs": [],
   "source": [
    "spam = 3"
   ]
  },
  {
   "cell_type": "code",
   "execution_count": 12,
   "id": "a918494e",
   "metadata": {},
   "outputs": [
    {
     "name": "stdout",
     "output_type": "stream",
     "text": [
      "Greetings!\n"
     ]
    }
   ],
   "source": [
    "if spam == 1:\n",
    "    print(\"Hello\")\n",
    "elif spam == 2:\n",
    "    print(\"Howdy\")\n",
    "else:\n",
    "    print(\"Greetings!\")"
   ]
  }
 ],
 "metadata": {
  "kernelspec": {
   "display_name": "Python 3 (ipykernel)",
   "language": "python",
   "name": "python3"
  },
  "language_info": {
   "codemirror_mode": {
    "name": "ipython",
    "version": 3
   },
   "file_extension": ".py",
   "mimetype": "text/x-python",
   "name": "python",
   "nbconvert_exporter": "python",
   "pygments_lexer": "ipython3",
   "version": "3.9.12"
  }
 },
 "nbformat": 4,
 "nbformat_minor": 5
}
